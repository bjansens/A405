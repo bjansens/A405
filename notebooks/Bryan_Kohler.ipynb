{
 "cells": [
  {
   "cell_type": "markdown",
   "metadata": {},
   "source": [
    "#ATSC 405 Day 22 Assignment\n",
    "## Bryan Jansens\n",
    "\n",
    "--------"
   ]
  },
  {
   "cell_type": "markdown",
   "metadata": {},
   "source": [
    "## Plot the Kohler curve for the aerosol in Phil's Kohler notes, eq. (6) and (7).\n",
    "The Kohler curve comes from eq. (4.15) in Thompkins."
   ]
  },
  {
   "cell_type": "code",
   "execution_count": 129,
   "metadata": {
    "collapsed": false
   },
   "outputs": [
    {
     "name": "stdout",
     "output_type": "stream",
     "text": [
      "Temperature is 288.15 K.\n",
      "Curvature term: a = 1.1370026107068876e-09\n",
      "Solution term: b = 9.766326053366304e-24\n"
     ]
    }
   ],
   "source": [
    "#Constants\n",
    "\n",
    "from a405thermo.constants import constants as c\n",
    "\n",
    "temp = 273.15 + 15    #K   using a temperature of 15 degrees C\n",
    "print('Temperature is {} K.'.format(temp))\n",
    "sigma = 0.0756      #N m-1 (surface tension)\n",
    "a = (2*sigma)/(c.rhol*c.Rv*temp)  #from p. 3 in Phil's Kohler notes\n",
    "print('Curvature term: a = {}'.format(a))\n",
    "\n",
    "vantHoff_factor = 3.     #dimensionless\n",
    "aerosol_mass = 1e-19    #kg   (from p. 2 in Phil's notes)\n",
    "Mw = 0.018*1000          #kg/kmol  (from p. 2 in Phil's notes)\n",
    "Ms = 0.132*1000          #kg/kmol   (from p. 2 in Phil's notes)\n",
    "b = (vantHoff_factor*aerosol_mass*Mw)/((4./3.)*np.pi*c.rhol*Ms)      #from p. 3 in Phil's Kohler notes\n",
    "print('Solution term: b = {}'.format(b))"
   ]
  },
  {
   "cell_type": "code",
   "execution_count": 115,
   "metadata": {
    "collapsed": false
   },
   "outputs": [],
   "source": [
    "#Get a vector of r values from 0.04 um to 0.30 um\n",
    "\n",
    "rvals = np.linspace(0.04e-6,0.30e-6)"
   ]
  },
  {
   "cell_type": "code",
   "execution_count": 156,
   "metadata": {
    "collapsed": true
   },
   "outputs": [],
   "source": [
    "#Define Kohler curve using eq. (4.15) in Thompkins, adjusted for the fact that my T is included in a\n",
    "\n",
    "def find_Kohler(r):\n",
    "    curve = (1 - (b/r**3))*np.exp(a/r)\n",
    "    return curve"
   ]
  },
  {
   "cell_type": "code",
   "execution_count": 171,
   "metadata": {
    "collapsed": false
   },
   "outputs": [
    {
     "data": {
      "image/png": "[encoded data removed]",
      "text/plain": [
       "<matplotlib.figure.Figure at 0x8c7b278>"
      ]
     },
     "metadata": {},
     "output_type": "display_data"
    }
   ],
   "source": [
    "#Plot the Kohler curve\n",
    "\n",
    "%matplotlib inline\n",
    "plt.style.use('ggplot')\n",
    "\n",
    "curve_data = find_Kohler(rvals)\n",
    "\n",
    "fig,ax = plt.subplots(1,1,figsize=(10,8))\n",
    "out = ax.plot(rvals*1e6, curve_data)\n",
    "out = ax.set(xlabel = \"Droplet radius (um)\", ylabel = \"Supersaturation\", title = \"Kohler curve\")\n",
    "out = ax.set(xlim = [0.04,0.30])"
   ]
  },
  {
   "cell_type": "markdown",
   "metadata": {},
   "source": [
    "##Use fzero to find the equilibrium radius for a haze particle at a relative humidity of 90% and a temperature of 15 deg. C."
   ]
  },
  {
   "cell_type": "code",
   "execution_count": 173,
   "metadata": {
    "collapsed": false
   },
   "outputs": [
    {
     "data": {
      "text/plain": [
       "<module 'a405thermo.rootfinder' from 'C:\\\\users\\\\Bryan\\\\repos\\\\A405\\\\a405thermo\\\\rootfinder.py'>"
      ]
     },
     "execution_count": 173,
     "metadata": {},
     "output_type": "execute_result"
    }
   ],
   "source": [
    "import a405thermo.rootfinder as rf\n",
    "from importlib import reload\n",
    "reload(rf)"
   ]
  },
  {
   "cell_type": "code",
   "execution_count": 168,
   "metadata": {
    "collapsed": true
   },
   "outputs": [],
   "source": [
    "#Set the target values\n",
    "\n",
    "curve_target = 0.90     #target relative humidity\n",
    "r_guess = 0.05e-6       #microns    guess of r from plot of Kohler curve above"
   ]
  },
  {
   "cell_type": "code",
   "execution_count": 160,
   "metadata": {
    "collapsed": true
   },
   "outputs": [],
   "source": [
    "#function that finds where the diff. between target value and actual value is zero\n",
    "\n",
    "def find_curve_zero(r, curve_target):\n",
    "    curve_zero = curve_target - find_Kohler(r)\n",
    "    return curve_zero"
   ]
  },
  {
   "cell_type": "code",
   "execution_count": 184,
   "metadata": {
    "collapsed": false
   },
   "outputs": [
    {
     "name": "stdout",
     "output_type": "stream",
     "text": [
      "The equilibrium radius is 0.0429 microns.\n"
     ]
    }
   ],
   "source": [
    "brackets = rf.find_interval(find_curve_zero, r_guess, curve_target)\n",
    "target_r = rf.fzero(find_curve_zero, brackets, curve_target)\n",
    "print('The equilibrium radius is {:.3} microns.'.format(target_r*1e6))"
   ]
  }
 ],
 "metadata": {
  "kernelspec": {
   "display_name": "Python 3",
   "language": "python",
   "name": "python3"
  },
  "language_info": {
   "codemirror_mode": {
    "name": "ipython",
    "version": 3
   },
   "file_extension": ".py",
   "mimetype": "text/x-python",
   "name": "python",
   "nbconvert_exporter": "python",
   "pygments_lexer": "ipython3",
   "version": "3.4.4"
  }
 },
 "nbformat": 4,
 "nbformat_minor": 0
}
