{
 "cells": [
  {
   "cell_type": "markdown",
   "metadata": {},
   "source": [
    "#  Entropy problem\n",
    "\n",
    "Consider two compartments, each with a volume of 1 $m^3$, separated by a rigid, perfectly insulating membrane.\n",
    "\n",
    "Initially T_A = 300 K and p_A = $10^5$ Pa, and T_B= 100 K and p_B = 10^3 Pa.  Suppose the membrane breaks.  Find the final temperature and pressure in the 2 m^3 compartment.   Does the total entropy change?  By how much?"
   ]
  },
  {
   "cell_type": "code",
   "execution_count": 42,
   "metadata": {
    "collapsed": true
   },
   "outputs": [],
   "source": [
    "#Constants\n",
    "\n",
    "vol_A = 1     #m^3\n",
    "vol_B = 1     #m^3\n",
    "vol_total = 2  #m^3\n",
    "temp_A = 300   #K\n",
    "temp_B = 100   #K\n",
    "press_A = 1.e5  #Pa\n",
    "press_B = 1.e3  #Pa\n",
    "Rd = 287.   #J/kg/K\n",
    "cv = 717.   #J/kg/K\n",
    "cp = 1005.  #J/kg/K"
   ]
  },
  {
   "cell_type": "code",
   "execution_count": 21,
   "metadata": {
    "collapsed": false
   },
   "outputs": [
    {
     "name": "stdout",
     "output_type": "stream",
     "text": [
      "rho_A = 1.16144 kg/m^3\n",
      "rho_B = 0.03484 kg/m^3\n"
     ]
    }
   ],
   "source": [
    "#Find the densities using the equation of state\n",
    "\n",
    "rho_A = press_A/(Rd*temp_A)\n",
    "rho_B = press_B/(Rd*temp_B)\n",
    "print('rho_A = {:.5f} kg/m^3'.format(rho_A))\n",
    "print('rho_B = {:.5f} kg/m^3'.format(rho_B))"
   ]
  },
  {
   "cell_type": "code",
   "execution_count": 22,
   "metadata": {
    "collapsed": false
   },
   "outputs": [
    {
     "name": "stdout",
     "output_type": "stream",
     "text": [
      "M_A = 1.16144 kg\n",
      "M_B = 0.03484 kg\n"
     ]
    }
   ],
   "source": [
    "#Find the masses using the definition of density\n",
    "\n",
    "mass_A = vol_A*rho_A\n",
    "mass_B = vol_B*rho_B\n",
    "print('M_A = {:.5f} kg'.format(mass_A))\n",
    "print('M_B = {:.5f} kg'.format(mass_B))"
   ]
  },
  {
   "cell_type": "code",
   "execution_count": 25,
   "metadata": {
    "collapsed": false
   },
   "outputs": [
    {
     "name": "stdout",
     "output_type": "stream",
     "text": [
      "rho_total = 0.59814 kg m^3\n"
     ]
    }
   ],
   "source": [
    "#Find the final density rho_total\n",
    "\n",
    "mass_total = mass_A + mass_B\n",
    "rho_total = mass_total/vol_total\n",
    "print('rho_total = {:.5f} kg m^3'.format(rho_total))"
   ]
  },
  {
   "cell_type": "code",
   "execution_count": 32,
   "metadata": {
    "collapsed": false
   },
   "outputs": [
    {
     "name": "stdout",
     "output_type": "stream",
     "text": [
      "U_A = 249825.8 J\n",
      "U_B = 2498.3 J\n",
      "U_total = 252324.0 J\n",
      "u_total = 210923.3 J/kg\n"
     ]
    }
   ],
   "source": [
    "#You want to use c_vT to get du, then use the fact that dU is conserved - multiply by mass - move on back to \n",
    "#Use u = c_vT.\n",
    "\n",
    "u_A = cv*temp_A\n",
    "u_B = cv*temp_B\n",
    "U_A = u_A*mass_A\n",
    "U_B = u_B*mass_B\n",
    "U_total = U_A + U_B\n",
    "u_total = U_total/mass_total\n",
    "print('U_A = {:.1f} J'.format(U_A))\n",
    "print('U_B = {:.1f} J'.format(U_B))\n",
    "print('U_total = {:.1f} J'.format(U_total))\n",
    "print('u_total = {:.1f} J/kg'.format(u_total))"
   ]
  },
  {
   "cell_type": "code",
   "execution_count": 44,
   "metadata": {
    "collapsed": false
   },
   "outputs": [
    {
     "name": "stdout",
     "output_type": "stream",
     "text": [
      "T_total = 294.17476 K\n"
     ]
    }
   ],
   "source": [
    "#Find the final temperature\n",
    "\n",
    "temp_total = u_total/cv\n",
    "print('T_total = {:.5f} K'.format(T_total))"
   ]
  },
  {
   "cell_type": "code",
   "execution_count": 45,
   "metadata": {
    "collapsed": false
   },
   "outputs": [
    {
     "name": "stdout",
     "output_type": "stream",
     "text": [
      "press_total = 5.05 e4 Pa\n"
     ]
    }
   ],
   "source": [
    "#Find the final pressure\n",
    "\n",
    "press_total = rho_total*Rd*temp_total\n",
    "print('press_total = {:.2f} e4 Pa'.format(press_total/10**4))"
   ]
  },
  {
   "cell_type": "code",
   "execution_count": 48,
   "metadata": {
    "collapsed": true
   },
   "outputs": [],
   "source": [
    "def theta_from_temp(temp,press):\n",
    "    \"\"\"\n",
    "       Input: temp (K)\n",
    "               press (kPa)\n",
    "       Output: theta (K)\n",
    "       Thompkins eq. 1.38\n",
    "    \"\"\"\n",
    "    cpd=1004. #J/kg/K\n",
    "    Rd = 287.  # J/kg/K\n",
    "    p0 = 100*1000   #kPa\n",
    "    theta = temp*(p0/press)**(Rd/cpd)\n",
    "    return theta"
   ]
  },
  {
   "cell_type": "code",
   "execution_count": 50,
   "metadata": {
    "collapsed": false
   },
   "outputs": [
    {
     "name": "stdout",
     "output_type": "stream",
     "text": [
      "theta_total = 357.62 K\n",
      "theta_A = 300.00 K\n",
      "theta_B = 373.00 K\n"
     ]
    }
   ],
   "source": [
    "#Find the final potential temperature\n",
    "\n",
    "theta_total = theta_from_temp(temp_total, press_total)\n",
    "print('theta_total = {:.2f} K'.format(theta_total))\n",
    "theta_A = theta_from_temp(temp_A, press_A)\n",
    "print('theta_A = {:.2f} K'.format(theta_A))\n",
    "theta_B = theta_from_temp(temp_B, press_B)\n",
    "print('theta_B = {:.2f} K'.format(theta_B))"
   ]
  },
  {
   "cell_type": "code",
   "execution_count": 55,
   "metadata": {
    "collapsed": false
   },
   "outputs": [
    {
     "name": "stdout",
     "output_type": "stream",
     "text": [
      "ent_A = 176.57 J/kg/K\n",
      "ent_B = -42.33 J/kg/K\n",
      "ent_total = 134.24 J/kg/K\n"
     ]
    }
   ],
   "source": [
    "#Find the change in entropy\n",
    "\n",
    "import numpy as np\n",
    "\n",
    "changeent_A = cp*np.log(theta_total/theta_A)\n",
    "changeent_B = cp*np.log(theta_total/theta_B)\n",
    "print('ent_A = {:.2f} J/kg/K'.format(changeent_A))\n",
    "print('ent_B = {:.2f} J/kg/K'.format(changeent_B))\n",
    "changeent_total = changeent_A + changeent_B\n",
    "print('ent_total = {:.2f} J/kg/K'.format(changeent_total))\n"
   ]
  },
  {
   "cell_type": "code",
   "execution_count": null,
   "metadata": {
    "collapsed": true
   },
   "outputs": [],
   "source": []
  }
 ],
 "metadata": {
  "kernelspec": {
   "display_name": "Python 3",
   "language": "python",
   "name": "python3"
  },
  "language_info": {
   "codemirror_mode": {
    "name": "ipython",
    "version": 3
   },
   "file_extension": ".py",
   "mimetype": "text/x-python",
   "name": "python",
   "nbconvert_exporter": "python",
   "pygments_lexer": "ipython3",
   "version": "3.4.3"
  }
 },
 "nbformat": 4,
 "nbformat_minor": 0
}
