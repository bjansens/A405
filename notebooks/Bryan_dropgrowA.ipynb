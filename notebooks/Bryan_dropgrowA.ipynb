{
 "cells": [
  {
   "cell_type": "markdown",
   "metadata": {},
   "source": [
    "### This notebook uses some new library functions in the a405dropgrow package to find equilibrium drop sizes"
   ]
  },
  {
   "cell_type": "code",
   "execution_count": 1,
   "metadata": {
    "collapsed": false
   },
   "outputs": [],
   "source": [
    "import a405dropgrow.aerolib\n",
    "from importlib import reload\n",
    "reload(a405dropgrow.aerolib)\n",
    "#\n",
    "# new library for aerosol functions\n",
    "#\n",
    "from a405dropgrow.aerolib import lognormal,create_koehler,find_koehler_coeffs\n",
    "import numpy as np\n",
    "import a405utils.helper_funs\n",
    "reload(a405utils.helper_funs)\n",
    "from a405utils.helper_funs import make_tuple, find_centers\n",
    "from a405thermo.rootfinder import find_interval, fzero\n",
    "import ruamel.yaml as ry  #need to pip install ruamel.yaml\n",
    "import pprint\n",
    "pp = pprint.PrettyPrinter(indent=4)\n",
    "#\n",
    "# find the path to the data folder.  We know it's\n",
    "# at the same level as a405utils, so construct\n",
    "# the path relative to the location of the a405utils folder\n",
    "#\n",
    "from pathlib import Path\n",
    "util_dir, = a405utils.__path__._path\n",
    "data_dir = Path(util_dir).joinpath('../data')"
   ]
  },
  {
   "cell_type": "markdown",
   "metadata": {},
   "source": [
    "### Read in the inital conditions\n",
    "\n",
    "Use the [yaml](https://en.wikipedia.org/wiki/YAML) file format to specify\n",
    "aerosol properties and initial conditions as a nested dictionary with\n",
    "comments"
   ]
  },
  {
   "cell_type": "code",
   "execution_count": 2,
   "metadata": {
    "collapsed": false
   },
   "outputs": [
    {
     "name": "stdout",
     "output_type": "stream",
     "text": [
      "{   'initial_conditions': {   'Tinit': 280.0,\n",
      "                              'Zinit': 1000.0,\n",
      "                              'Pinit': 90000.0,\n",
      "                              'Sinit': 0.995,\n",
      "                              'wvel': 0.5},\n",
      "    'aerosol': {   'Ms': 114,\n",
      "                   'Mw': 18.0,\n",
      "                   'Sigma': 0.075,\n",
      "                   'vanHoff': 2.0,\n",
      "                   'rhoaero': 1775,\n",
      "                   'themean': 2e-17,\n",
      "                   'sd': 1.7,\n",
      "                   'totmass': 1.5e-09}}\n"
     ]
    }
   ],
   "source": [
    "yaml_file = data_dir.joinpath('dropgrow.yaml')\n",
    "with yaml_file.open('r') as f:\n",
    "    input_dict=ry.load(f,Loader=ry.RoundTripLoader)\n",
    "pp.pprint(input_dict)"
   ]
  },
  {
   "cell_type": "markdown",
   "metadata": {},
   "source": [
    "### Calculate the lognormal aerosol mass distribution and get the number concentration in each of 30 bins\n",
    "\n",
    "(code borrowed from aero.ipynb)"
   ]
  },
  {
   "cell_type": "code",
   "execution_count": 3,
   "metadata": {
    "collapsed": true
   },
   "outputs": [],
   "source": [
    "mass_vals = np.linspace(-20,-16,30)\n",
    "mass_vals = 10**mass_vals\n",
    "mu=input_dict['aerosol']['themean']\n",
    "sigma = input_dict['aerosol']['sd']\n",
    "totmass = input_dict['aerosol']['totmass']\n",
    "mdist = totmass*lognormal(mass_vals,np.log(mu),np.log(sigma))\n",
    "mdist = find_centers(mdist)*np.diff(mass_vals)\n",
    "center_mass = find_centers(mass_vals)\n",
    "ndist = mdist/center_mass"
   ]
  },
  {
   "cell_type": "markdown",
   "metadata": {},
   "source": [
    "### Find the equilibrium radius for each of the 30 aerosol masses\n",
    "\n",
    "(code borrowed from koehler.ipynb)"
   ]
  },
  {
   "cell_type": "markdown",
   "metadata": {},
   "source": [
    "### Python note -- using function factories (\"closures\")\n",
    "\n",
    "A closure is a function object that remembers values in its  \"enclosing scope\" \n",
    "(see e.g [this article](http://www.shutupandship.com/2012/01/python-closures-explained.html)).  For example, instead of\n",
    "writing:\n",
    "\n",
    "```python\n",
    "my_string = \"{:8.3g}\".format(value)\n",
    "```\n",
    "    \n",
    "every time we wanted to format a floating point number, we could do something like this:"
   ]
  },
  {
   "cell_type": "code",
   "execution_count": 4,
   "metadata": {
    "collapsed": false
   },
   "outputs": [
    {
     "name": "stdout",
     "output_type": "stream",
     "text": [
      "debugging 10 1.55e-23\n"
     ]
    }
   ],
   "source": [
    "def make_format(format_string=\"{:8.3g}\"):\n",
    "    \"\"\"\n",
    "    returns a function that formats with format_string\n",
    "    \"\"\"\n",
    "    def inner_fun(value):\n",
    "        return format_string.format(value)\n",
    "    return inner_fun\n",
    "\n",
    "#Now get closures from make_format and use it:\n",
    "\n",
    "g = make_format()\n",
    "info = make_format(format_string=\"debugging {}\")\n",
    "\n",
    "a=10\n",
    "b=1.546e-23\n",
    "print(info(a), g(b))\n"
   ]
  },
  {
   "cell_type": "markdown",
   "metadata": {},
   "source": [
    "### Calculating the equilibrium size distribution for unactivated aerosols\n",
    "\n",
    "Below we use "
   ]
  },
  {
   "cell_type": "code",
   "execution_count": 5,
   "metadata": {
    "collapsed": false
   },
   "outputs": [
    {
     "name": "stdout",
     "output_type": "stream",
     "text": [
      "for aerosol with mass = 1e-18 kg, SScrit,rcrit are  0.00175,    0.441 microns\n"
     ]
    }
   ],
   "source": [
    "aero=make_tuple(input_dict['aerosol'])\n",
    "parcel=make_tuple(input_dict['initial_conditions'])\n",
    "\n",
    "a, b = find_koehler_coeffs(aero,parcel)\n",
    "\n",
    "#\n",
    "# sanity check\n",
    "#\n",
    "m=1.e-18\n",
    "Scrit=(4.*a**3./(27.*b*m))**0.5;\n",
    "rcrit = (3.*m*b/a)**0.5\n",
    "print((\"for aerosol with mass = {} kg, \"\n",
    "       \"SScrit,rcrit are {:8.3g}, {:8.3g} microns\")\n",
    "        .format(m,Scrit,rcrit*1.e6))\n"
   ]
  },
  {
   "cell_type": "code",
   "execution_count": 6,
   "metadata": {
    "collapsed": false
   },
   "outputs": [
    {
     "name": "stdout",
     "output_type": "stream",
     "text": [
      "mass = 1.19e-20 kg\n",
      "left bracket = 9.490e-03 microns\n",
      "right bracket=1.905e-01 microns\n",
      "critical supersaturation: 0.0161\n",
      "equlibrium radius at S=0.995 is 0.026 microns\n",
      "\n",
      "mass = 1.63e-20 kg\n",
      "left bracket = 9.490e-03 microns\n",
      "right bracket=1.905e-01 microns\n",
      "critical supersaturation: 0.0137\n",
      "equlibrium radius at S=0.995 is 0.030 microns\n",
      "\n",
      "mass = 2.24e-20 kg\n",
      "left bracket = 9.490e-03 microns\n",
      "right bracket=1.905e-01 microns\n",
      "critical supersaturation: 0.0117\n",
      "equlibrium radius at S=0.995 is 0.035 microns\n",
      "\n",
      "mass = 3.08e-20 kg\n",
      "left bracket = 3.600e-02 microns\n",
      "right bracket=1.640e-01 microns\n",
      "critical supersaturation: 0.00999\n",
      "equlibrium radius at S=0.995 is 0.041 microns\n",
      "\n",
      "mass = 4.23e-20 kg\n",
      "left bracket = 3.600e-02 microns\n",
      "right bracket=1.640e-01 microns\n",
      "critical supersaturation: 0.00853\n",
      "equlibrium radius at S=0.995 is 0.047 microns\n",
      "\n",
      "mass = 5.81e-20 kg\n",
      "left bracket = 5.475e-02 microns\n",
      "right bracket=1.453e-01 microns\n",
      "critical supersaturation: 0.00727\n",
      "equlibrium radius at S=0.995 is 0.055 microns\n",
      "\n",
      "mass = 7.98e-20 kg\n",
      "left bracket = 5.475e-02 microns\n",
      "right bracket=1.453e-01 microns\n",
      "critical supersaturation: 0.00621\n",
      "equlibrium radius at S=0.995 is 0.063 microns\n",
      "\n",
      "mass = 1.1e-19 kg\n",
      "left bracket = 6.800e-02 microns\n",
      "right bracket=1.320e-01 microns\n",
      "critical supersaturation: 0.0053\n",
      "equlibrium radius at S=0.995 is 0.073 microns\n",
      "\n",
      "mass = 1.51e-19 kg\n",
      "left bracket = 8.400e-02 microns\n",
      "right bracket=1.160e-01 microns\n",
      "critical supersaturation: 0.00452\n",
      "equlibrium radius at S=0.995 is 0.084 microns\n",
      "\n",
      "mass = 2.07e-19 kg\n",
      "left bracket = 9.600e-02 microns\n",
      "right bracket=1.040e-01 microns\n",
      "critical supersaturation: 0.00385\n",
      "equlibrium radius at S=0.995 is 0.097 microns\n",
      "\n",
      "mass = 2.84e-19 kg\n",
      "left bracket = 8.869e-02 microns\n",
      "right bracket=1.113e-01 microns\n",
      "critical supersaturation: 0.00329\n",
      "equlibrium radius at S=0.995 is 0.111 microns\n",
      "\n",
      "mass = 3.91e-19 kg\n",
      "left bracket = 6.800e-02 microns\n",
      "right bracket=1.320e-01 microns\n",
      "critical supersaturation: 0.00281\n",
      "equlibrium radius at S=0.995 is 0.127 microns\n",
      "\n",
      "mass = 5.37e-19 kg\n",
      "left bracket = 3.600e-02 microns\n",
      "right bracket=1.640e-01 microns\n",
      "critical supersaturation: 0.00239\n",
      "equlibrium radius at S=0.995 is 0.146 microns\n",
      "\n",
      "mass = 7.37e-19 kg\n",
      "left bracket = 9.490e-03 microns\n",
      "right bracket=1.905e-01 microns\n",
      "critical supersaturation: 0.00204\n",
      "equlibrium radius at S=0.995 is 0.166 microns\n",
      "\n",
      "mass = 1.01e-18 kg\n",
      "left bracket = 9.490e-03 microns\n",
      "right bracket=1.905e-01 microns\n",
      "critical supersaturation: 0.00174\n",
      "equlibrium radius at S=0.995 is 0.190 microns\n",
      "\n",
      "mass = 1.39e-18 kg\n",
      "left bracket = -2.800e-02 microns\n",
      "right bracket=2.280e-01 microns\n",
      "critical supersaturation: 0.00149\n",
      "equlibrium radius at S=0.995 is 0.216 microns\n",
      "\n",
      "mass = 1.91e-18 kg\n",
      "left bracket = -8.102e-02 microns\n",
      "right bracket=2.810e-01 microns\n",
      "critical supersaturation: 0.00127\n",
      "equlibrium radius at S=0.995 is 0.245 microns\n",
      "\n",
      "mass = 2.63e-18 kg\n",
      "left bracket = -8.102e-02 microns\n",
      "right bracket=2.810e-01 microns\n",
      "critical supersaturation: 0.00108\n",
      "equlibrium radius at S=0.995 is 0.278 microns\n",
      "\n",
      "mass = 3.61e-18 kg\n",
      "left bracket = -1.560e-01 microns\n",
      "right bracket=3.560e-01 microns\n",
      "critical supersaturation: 0.000923\n",
      "equlibrium radius at S=0.995 is 0.315 microns\n",
      "\n",
      "mass = 4.96e-18 kg\n",
      "left bracket = -1.560e-01 microns\n",
      "right bracket=3.560e-01 microns\n",
      "critical supersaturation: 0.000788\n",
      "equlibrium radius at S=0.995 is 0.356 microns\n",
      "\n",
      "mass = 6.81e-18 kg\n",
      "left bracket = -2.620e-01 microns\n",
      "right bracket=4.620e-01 microns\n",
      "critical supersaturation: 0.000672\n",
      "equlibrium radius at S=0.995 is 0.401 microns\n",
      "\n",
      "mass = 9.35e-18 kg\n",
      "left bracket = -2.620e-01 microns\n",
      "right bracket=4.620e-01 microns\n",
      "critical supersaturation: 0.000573\n",
      "equlibrium radius at S=0.995 is 0.453 microns\n",
      "\n",
      "mass = 1.28e-17 kg\n",
      "left bracket = -4.120e-01 microns\n",
      "right bracket=6.120e-01 microns\n",
      "critical supersaturation: 0.000489\n",
      "equlibrium radius at S=0.995 is 0.510 microns\n",
      "\n",
      "mass = 1.77e-17 kg\n",
      "left bracket = -4.120e-01 microns\n",
      "right bracket=6.120e-01 microns\n",
      "critical supersaturation: 0.000417\n",
      "equlibrium radius at S=0.995 is 0.573 microns\n",
      "\n",
      "mass = 2.43e-17 kg\n",
      "left bracket = -6.241e-01 microns\n",
      "right bracket=8.241e-01 microns\n",
      "critical supersaturation: 0.000356\n",
      "equlibrium radius at S=0.995 is 0.644 microns\n",
      "\n",
      "mass = 3.33e-17 kg\n",
      "left bracket = -6.241e-01 microns\n",
      "right bracket=8.241e-01 microns\n",
      "critical supersaturation: 0.000304\n",
      "equlibrium radius at S=0.995 is 0.723 microns\n",
      "\n",
      "mass = 4.58e-17 kg\n",
      "left bracket = -6.241e-01 microns\n",
      "right bracket=8.241e-01 microns\n",
      "critical supersaturation: 0.000259\n",
      "equlibrium radius at S=0.995 is 0.811 microns\n",
      "\n",
      "mass = 6.29e-17 kg\n",
      "left bracket = -9.240e-01 microns\n",
      "right bracket=1.124e+00 microns\n",
      "critical supersaturation: 0.000221\n",
      "equlibrium radius at S=0.995 is 0.909 microns\n",
      "\n",
      "mass = 8.64e-17 kg\n",
      "left bracket = -9.240e-01 microns\n",
      "right bracket=1.124e+00 microns\n",
      "critical supersaturation: 0.000189\n",
      "equlibrium radius at S=0.995 is 1.018 microns\n",
      "\n"
     ]
    }
   ],
   "source": [
    "koehler_fun = create_koehler(aero,parcel)\n",
    "\n",
    "def find_diff(r,S_target,m):\n",
    "    \"\"\"\n",
    "    zero function for rootfinder\n",
    "    \"\"\"\n",
    "    return S_target - koehler_fun(r,m)\n",
    "\n",
    "S_target = parcel.Sinit\n",
    "r_start = 0.1e-6\n",
    "\n",
    "initial_radius = []\n",
    "for mass in center_mass:\n",
    "    brackets = np.array(find_interval(find_diff,r_start,S_target,mass))\n",
    "    left_bracket, right_bracket = brackets*1.e6  #get brackets in microns for printing\n",
    "    equil_rad = fzero(find_diff,brackets,S_target,mass)\n",
    "    \n",
    "    Scrit=(4.*a**3./(27.*b*mass))**0.5\n",
    "    \n",
    "    initial_radius.append(equil_rad)\n",
    "    print(('mass = {mass:6.3g} kg\\n'\n",
    "           'left bracket = {left_bracket:8.3e} microns\\n'\n",
    "           'right bracket={right_bracket:8.3e} microns\\n'\n",
    "           'critical supersaturation: {Scrit:6.3g}')\n",
    "           .format_map(locals()))\n",
    "    print('equlibrium radius at S={} is {:5.3f} microns\\n'.format(S_target,equil_rad*1.e6))"
   ]
  },
  {
   "cell_type": "markdown",
   "metadata": {},
   "source": [
    "### First assume that $n_w=\\frac{4}{3}\\pi r^3\\rho_l$."
   ]
  },
  {
   "cell_type": "code",
   "execution_count": 12,
   "metadata": {
    "collapsed": false
   },
   "outputs": [],
   "source": [
    "rhol = 1000.\n",
    "vanhoff = 2\n",
    "Ms = input_dict['aerosol']['Ms']\n",
    "Mw = input_dict['aerosol']['Mw']\n",
    "\n",
    "ratio_list = []\n",
    "rad_list = []\n",
    "\n",
    "for i in range(0, len(initial_radius)):\n",
    "    nw = ((4./3.)*np.pi*rhol*(initial_radius[i]**3))/Mw\n",
    "    ns = (center_mass[i]*vanhoff)/Ms\n",
    "    ratio_list.append(ns/nw)\n",
    "    rad_list.append(initial_radius[i]*1e6)"
   ]
  },
  {
   "cell_type": "code",
   "execution_count": 13,
   "metadata": {
    "collapsed": false
   },
   "outputs": [
    {
     "data": {
      "image/png": "[encoded data removed]",
      "text/plain": [
       "<matplotlib.figure.Figure at 0x7477e48>"
      ]
     },
     "metadata": {},
     "output_type": "display_data"
    }
   ],
   "source": [
    "%matplotlib inline\n",
    "plt.style.use('ggplot')\n",
    "plt.close('all')\n",
    "\n",
    "fig,ax = plt.subplots(1,1)\n",
    "out = ax.plot(rad_list, ratio_list)\n",
    "out = ax.set(xlabel = \"Equilibrium Radius (microns)\", ylabel = \"$n_s/n_w$\")"
   ]
  },
  {
   "cell_type": "markdown",
   "metadata": {},
   "source": [
    "### Next make an exact calculation for $n_w$."
   ]
  },
  {
   "cell_type": "code",
   "execution_count": 14,
   "metadata": {
    "collapsed": false
   },
   "outputs": [],
   "source": [
    "rho_aero = input_dict['aerosol']['rhoaero']\n",
    "\n",
    "ratio_list2 = []\n",
    "\n",
    "for i in range(0, len(initial_radius)):\n",
    "    nw = ((((4./3.)*np.pi*(initial_radius[i]**3)) - (center_mass[i]/rho_aero))*rhol)/Mw\n",
    "    ns = (center_mass[i]*vanhoff)/Ms\n",
    "    ratio_list2.append(ns/nw)"
   ]
  },
  {
   "cell_type": "code",
   "execution_count": 15,
   "metadata": {
    "collapsed": false
   },
   "outputs": [
    {
     "data": {
      "image/png": "[encoded data removed]",
      "text/plain": [
       "<matplotlib.figure.Figure at 0x8109860>"
      ]
     },
     "metadata": {},
     "output_type": "display_data"
    }
   ],
   "source": [
    "%matplotlib inline\n",
    "plt.style.use('ggplot')\n",
    "plt.close('all')\n",
    "\n",
    "fig,ax = plt.subplots(1,1)\n",
    "out = ax.plot(rad_list, ratio_list, 'r-', label = 'Approximate')\n",
    "out = ax.plot(rad_list, ratio_list2, 'b-', label = 'Exact')\n",
    "out = ax.set(xlabel = \"Equilibrium Radius (microns)\", ylabel = \"$n_s/n_w$\")\n",
    "out = ax.legend(loc='best')"
   ]
  },
  {
   "cell_type": "code",
   "execution_count": 16,
   "metadata": {
    "collapsed": false
   },
   "outputs": [
    {
     "data": {
      "image/png": "[encoded data removed]",
      "text/plain": [
       "<matplotlib.figure.Figure at 0x7c25630>"
      ]
     },
     "metadata": {},
     "output_type": "display_data"
    }
   ],
   "source": [
    "%matplotlib inline\n",
    "plt.style.use('ggplot')\n",
    "plt.close('all')\n",
    "\n",
    "fig,ax = plt.subplots(1,1)\n",
    "out = ax.plot(rad_list, ratio_list, 'r-', label = 'Approximate')\n",
    "out = ax.plot(rad_list, ratio_list2, 'b-', label = 'Exact')\n",
    "out = ax.set(xlabel = \"Equilibrium Radius (microns)\", ylabel = \"$n_s/n_w$\")\n",
    "out = ax.legend(loc='best')\n",
    "out = ax.set(xlim = (0.0, 0.2))"
   ]
  },
  {
   "cell_type": "code",
   "execution_count": null,
   "metadata": {
    "collapsed": true
   },
   "outputs": [],
   "source": []
  }
 ],
 "metadata": {
  "kernelspec": {
   "display_name": "Python 3",
   "language": "python",
   "name": "python3"
  },
  "language_info": {
   "codemirror_mode": {
    "name": "ipython",
    "version": 3
   },
   "file_extension": ".py",
   "mimetype": "text/x-python",
   "name": "python",
   "nbconvert_exporter": "python",
   "pygments_lexer": "ipython3",
   "version": "3.4.4"
  }
 },
 "nbformat": 4,
 "nbformat_minor": 0
}
