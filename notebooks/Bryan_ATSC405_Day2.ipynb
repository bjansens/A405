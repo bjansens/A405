{
 "cells": [
  {
   "cell_type": "markdown",
   "metadata": {},
   "source": [
    "#ATSC 405 - Day 2 Assignment\n",
    "## Bryan Jansens\n",
    "\n",
    "----"
   ]
  },
  {
   "cell_type": "markdown",
   "metadata": {},
   "source": [
    "##The goal: define a function called 'eqstate' which calculates the density of dry air at a pressure of 80 kPa and temperatures [280, 290, 300] K.\n",
    "The relevant equation from Adrian Thompkin's notes is (one form of) the ideal gas law eq. (1.6), $p=\\rho R_m T$. Here $p$ is the pressure (Pa), $\\rho$ is the density (kg m$^{-3}$), $T$ is the temperature (K), and $R_m$ is the gas constant for a particular mixture of (dry) gases. For dry air, $R_m=R_d=287.05 \\ \\mathrm{J \\ kg}^{-1} \\ \\mathrm{K}^{-1}$. \n",
    "\n",
    "Solving for $\\rho$ gives $\\rho=p/R_dT$. This is the equation I want to write a function to solve. Since $R_d$ is constant here, I will define it inside the function and only give the function the pressure and temperature as an argument."
   ]
  },
  {
   "cell_type": "code",
   "execution_count": 1,
   "metadata": {
    "collapsed": true
   },
   "outputs": [],
   "source": [
    "def eqstate(press, temp):\n",
    "    Rd = 287.05                #J kg^-1 K^-1\n",
    "    rho = press/(Rd*temp)\n",
    "    return rho"
   ]
  },
  {
   "cell_type": "markdown",
   "metadata": {},
   "source": [
    "If I call this function with pressure and temperature as arguments I can generate appropriate values of $\\rho$. Note that I need to convert the pressure to Pa (multiply by 1000)."
   ]
  },
  {
   "cell_type": "code",
   "execution_count": 20,
   "metadata": {
    "collapsed": false
   },
   "outputs": [],
   "source": [
    "temp_list = [280,290,300]    #K\n",
    "press = 80*1000              #Pa"
   ]
  },
  {
   "cell_type": "code",
   "execution_count": 21,
   "metadata": {
    "collapsed": false
   },
   "outputs": [
    {
     "name": "stdout",
     "output_type": "stream",
     "text": [
      "The density of dry air at 80 kPa and 280 K is 0.995347 kg m^-3.\n",
      "The density of dry air at 80 kPa and 290 K is 0.961024 kg m^-3.\n",
      "The density of dry air at 80 kPa and 300 K is 0.928990 kg m^-3.\n"
     ]
    }
   ],
   "source": [
    "for i, temp in enumerate(temp_list):\n",
    "    rho = eqstate(press, temp_list[i])\n",
    "    print('The density of dry air at {} kPa and {} K is {:.6f} kg m^-3.'.format(int(press/1000), temp, rho))"
   ]
  },
  {
   "cell_type": "markdown",
   "metadata": {},
   "source": [
    "These values seem physically reasonable."
   ]
  }
 ],
 "metadata": {
  "kernelspec": {
   "display_name": "Python 3",
   "language": "python",
   "name": "python3"
  },
  "language_info": {
   "codemirror_mode": {
    "name": "ipython",
    "version": 3
   },
   "file_extension": ".py",
   "mimetype": "text/x-python",
   "name": "python",
   "nbconvert_exporter": "python",
   "pygments_lexer": "ipython3",
   "version": "3.4.3"
  }
 },
 "nbformat": 4,
 "nbformat_minor": 0
}
