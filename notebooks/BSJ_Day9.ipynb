{
 "cells": [
  {
   "cell_type": "markdown",
   "metadata": {},
   "source": [
    "#ATSC 405 Day 9 Assignment\n",
    "## Bryan Jansens\n",
    "\n",
    "-------"
   ]
  },
  {
   "cell_type": "markdown",
   "metadata": {},
   "source": [
    "##Objective: Adapt the rootfind notebook to solve equation (8) from the notes for the saturation vapour pressure $e_{sat}$ and compare with Thompkins (2.13) or (2.15) for 10 temperatures between 0-20$^{\\circ}$ C."
   ]
  },
  {
   "cell_type": "markdown",
   "metadata": {
    "collapsed": true
   },
   "source": [
    "The equation to solve is$\\\\[2mm]$\n",
    "\n",
    "$$l_v=\\left(\\phi_v^*-\\phi_l\\right)T,$$\n",
    "\n",
    "where $l_v$ is the (temperature-dependent) enthalpy of evaporation, $\\phi_v^*$ is the entropy/mass of the saturated vapor phase of water, $\\phi_l$ is the entropy/mass of the liquid phase, and $T$ is the temperature. Expressions for $l_v$, $\\phi_v^*$, and $\\phi_l$ are developed in the notes. Namely, I can replace $l_v$ with expression (13),$\\\\[2mm]$\n",
    "\n",
    "$$l_v=\\left(c_{pv}-c_l\\right)\\left(T-T_0\\right)+l_0,\\\\[2mm]$$\n",
    "\n",
    "where $l_0=2.501\\times10^6 \\ \\mathrm{J \\ kg}^{-1}$ is the value of $l_v$ at temperature $T_0=273 \\ \\mathrm{K}$, $c_{pv}=1870 \\ \\mathrm{J \\ kg}^{-1} \\ \\mathrm{K}^{-1}$, and $c_{l}=4187 \\ \\mathrm{J \\ kg}^{-1} \\ \\mathrm{K}^{-1}$. \n",
    "\n",
    "I can replace $\\phi_l$ with expression (11),$\\\\[2mm]$\n",
    "\n",
    "$$\\phi_l=c_l\\ln\\left(\\frac{T}{T_p}\\right),\\\\[2mm]$$\n",
    "\n",
    "where $T_p=273.15 \\ \\mathrm{K}$ is the temperature at the triple point of water.\n",
    "\n",
    "Finally, I can replace $\\phi_v^*$ with expression (10),$\\\\[2mm]$\n",
    "\n",
    "$$\\phi_v^*=c_{pv}\\ln\\left(\\frac{T}{T_p}\\right)-R_v\\ln\\left(\\frac{e_{sat}}{e_{s0}}\\right)+\\phi_0,\\\\[2mm]$$\n",
    "\n",
    "where $R_v=461.5 \\ \\mathrm{J \\ kg}^{-1} \\ \\mathrm{K}^{-1}$ is the specific gas constant for water vapour, $e_{s0}=6.11 \\ \\mathrm{hPa}$, $\\phi_0=l_0/T_p$, and $e_{sat}$ is the saturation vapour pressure that I would like to solve for.\n",
    "\n",
    "Then, as per the notes, I can insert these last three expressions into the first expression and solve for $e_{sat}$ for different values of $T$. The exact expression for $e_{sat}$ is$\\\\[2mm]$\n",
    "\n",
    "$$\\begin{aligned}\n",
    "&\\frac{l_v}{T}+\\phi_l=\\phi_v^*\\\\[2mm]\n",
    "& \\implies \\ e_{sat}=e_{s0}\\exp\\left[-\\frac{\\frac{l_v}{T}+\\phi_l-c_{pv}\\ln\\left(\\frac{T}{T_p}\\right)-\\phi_0}{R_v}\\right].\n",
    "\\end{aligned}$$"
   ]
  },
  {
   "cell_type": "code",
   "execution_count": 99,
   "metadata": {
    "collapsed": false
   },
   "outputs": [
    {
     "data": {
      "text/plain": [
       "<module 'a405thermo.rootfinder' from 'C:\\\\Users\\\\Bryan\\\\Documents\\\\ATSC405\\\\repos\\\\A405\\\\a405thermo\\\\rootfinder.py'>"
      ]
     },
     "execution_count": 99,
     "metadata": {},
     "output_type": "execute_result"
    }
   ],
   "source": [
    "#Imports\n",
    "\n",
    "import numpy as np\n",
    "import a405thermo.rootfinder as rf\n",
    "from importlib import reload\n",
    "reload(rf)"
   ]
  },
  {
   "cell_type": "code",
   "execution_count": 103,
   "metadata": {
    "collapsed": true
   },
   "outputs": [],
   "source": [
    "#Constants\n",
    "\n",
    "c_pv = 1870.      #J kg^-1 K^-1\n",
    "c_l = 4187.       #J kg^-1 K^-1\n",
    "T_0 = 273.        #K\n",
    "l_0 = 2.501e6     #J kg^-1\n",
    "T_p = 273.15      #K\n",
    "R_v = 461.5       #J kg^-1 K^-1\n",
    "e_s0 = 6.11       #hPa\n",
    "phi_0 = l_0/T_p"
   ]
  },
  {
   "cell_type": "code",
   "execution_count": 54,
   "metadata": {
    "collapsed": true
   },
   "outputs": [],
   "source": [
    "#Get a list of temperatures\n",
    "\n",
    "temps = [273, 275, 277, 279, 281, 283, 285, 287, 289, 291]"
   ]
  },
  {
   "cell_type": "code",
   "execution_count": 126,
   "metadata": {
    "collapsed": true
   },
   "outputs": [],
   "source": [
    "#Define the root-finding function for e_sat\n",
    "\n",
    "def esat_zero(esat_guess, esat_target, temp):\n",
    "    \"\"\"Function we want to find the root of\n",
    "       input: esat_guess (hPa), esat_target (hPa), temperature (K)\n",
    "       output: difference between guess and target -- should be zero when x is a root\n",
    "    \"\"\"   \n",
    "    l_v = (c_pv - c_l)*(temp - T_0) + l_0\n",
    "    phi_l = c_l*np.log(temp/T_p)\n",
    "    esat_guess = e_s0*np.exp(-((l_v/temp) + phi_l - c_pv*np.log(temp/T_p) - phi_0)/R_v)\n",
    "    return esat_target - esat_guess"
   ]
  },
  {
   "cell_type": "code",
   "execution_count": 127,
   "metadata": {
    "collapsed": true
   },
   "outputs": [],
   "source": [
    "#Define a function that finds the roots using brentq\n",
    "\n",
    "def e_sat(esat_target, temp):\n",
    "    \"\"\"\n",
    "       input: theta (K), press (Pa)\n",
    "       output: e_sat (hPa) found by rootfinder\n",
    "    \"\"\"     \n",
    "    #\n",
    "    #  use theta as guess for bracket and pass theta,press to theta_zero\n",
    "    #\n",
    "    brackets = rf.find_interval(esat_zero, esat_target, esat_target, temp)\n",
    "    print(brackets)\n",
    "    e_sat_val = rf.fzero(esat_zero, brackets, esat_target, temp)\n",
    "    return e_sat_val"
   ]
  },
  {
   "cell_type": "code",
   "execution_count": 129,
   "metadata": {
    "collapsed": false
   },
   "outputs": [
    {
     "name": "stdout",
     "output_type": "stream",
     "text": [
      "6.11\n"
     ]
    },
    {
     "ename": "ValueError",
     "evalue": "Couldn't find a suitable range.",
     "output_type": "error",
     "traceback": [
      "\u001b[1;31m---------------------------------------------------------------------------\u001b[0m",
      "\u001b[1;31mValueError\u001b[0m                                Traceback (most recent call last)",
      "\u001b[1;32m<ipython-input-129-489bc18e896b>\u001b[0m in \u001b[0;36m<module>\u001b[1;34m()\u001b[0m\n\u001b[0;32m      4\u001b[0m \u001b[0mesat_target\u001b[0m \u001b[1;33m=\u001b[0m \u001b[0me_s0\u001b[0m\u001b[1;33m*\u001b[0m\u001b[0mnp\u001b[0m\u001b[1;33m.\u001b[0m\u001b[0mexp\u001b[0m\u001b[1;33m(\u001b[0m\u001b[1;33m(\u001b[0m\u001b[1;33m(\u001b[0m\u001b[1;36m2.5e6\u001b[0m\u001b[1;33m)\u001b[0m\u001b[1;33m/\u001b[0m\u001b[0mR_v\u001b[0m\u001b[1;33m)\u001b[0m\u001b[1;33m*\u001b[0m\u001b[1;33m(\u001b[0m\u001b[1;33m(\u001b[0m\u001b[1;36m1\u001b[0m\u001b[1;33m/\u001b[0m\u001b[0mT_0\u001b[0m\u001b[1;33m)\u001b[0m\u001b[1;33m-\u001b[0m\u001b[1;33m(\u001b[0m\u001b[1;36m1\u001b[0m\u001b[1;33m/\u001b[0m\u001b[0mtemp\u001b[0m\u001b[1;33m)\u001b[0m\u001b[1;33m)\u001b[0m\u001b[1;33m)\u001b[0m\u001b[1;33m\u001b[0m\u001b[0m\n\u001b[0;32m      5\u001b[0m \u001b[0mprint\u001b[0m\u001b[1;33m(\u001b[0m\u001b[0mesat_target\u001b[0m\u001b[1;33m)\u001b[0m\u001b[1;33m\u001b[0m\u001b[0m\n\u001b[1;32m----> 6\u001b[1;33m \u001b[0me_sat\u001b[0m\u001b[1;33m(\u001b[0m\u001b[0mesat_target\u001b[0m\u001b[1;33m,\u001b[0m \u001b[0mtemp\u001b[0m\u001b[1;33m)\u001b[0m\u001b[1;33m\u001b[0m\u001b[0m\n\u001b[0m",
      "\u001b[1;32m<ipython-input-127-53a63f0daf5f>\u001b[0m in \u001b[0;36me_sat\u001b[1;34m(esat_target, temp)\u001b[0m\n\u001b[0;32m      9\u001b[0m     \u001b[1;31m#  use theta as guess for bracket and pass theta,press to theta_zero\u001b[0m\u001b[1;33m\u001b[0m\u001b[1;33m\u001b[0m\u001b[0m\n\u001b[0;32m     10\u001b[0m     \u001b[1;31m#\u001b[0m\u001b[1;33m\u001b[0m\u001b[1;33m\u001b[0m\u001b[0m\n\u001b[1;32m---> 11\u001b[1;33m     \u001b[0mbrackets\u001b[0m \u001b[1;33m=\u001b[0m \u001b[0mrf\u001b[0m\u001b[1;33m.\u001b[0m\u001b[0mfind_interval\u001b[0m\u001b[1;33m(\u001b[0m\u001b[0mesat_zero\u001b[0m\u001b[1;33m,\u001b[0m \u001b[0mesat_target\u001b[0m\u001b[1;33m,\u001b[0m \u001b[0mesat_target\u001b[0m\u001b[1;33m,\u001b[0m \u001b[0mtemp\u001b[0m\u001b[1;33m)\u001b[0m\u001b[1;33m\u001b[0m\u001b[0m\n\u001b[0m\u001b[0;32m     12\u001b[0m     \u001b[0mprint\u001b[0m\u001b[1;33m(\u001b[0m\u001b[0mbrackets\u001b[0m\u001b[1;33m)\u001b[0m\u001b[1;33m\u001b[0m\u001b[0m\n\u001b[0;32m     13\u001b[0m     \u001b[0me_sat_val\u001b[0m \u001b[1;33m=\u001b[0m \u001b[0mrf\u001b[0m\u001b[1;33m.\u001b[0m\u001b[0mfzero\u001b[0m\u001b[1;33m(\u001b[0m\u001b[0mesat_zero\u001b[0m\u001b[1;33m,\u001b[0m \u001b[0mbrackets\u001b[0m\u001b[1;33m,\u001b[0m \u001b[0mesat_target\u001b[0m\u001b[1;33m,\u001b[0m \u001b[0mtemp\u001b[0m\u001b[1;33m)\u001b[0m\u001b[1;33m\u001b[0m\u001b[0m\n",
      "\u001b[1;32mC:\\Users\\Bryan\\Documents\\ATSC405\\repos\\A405\\a405thermo\\rootfinder.py\u001b[0m in \u001b[0;36mfind_interval\u001b[1;34m(func, x, *args)\u001b[0m\n\u001b[0;32m     41\u001b[0m             \u001b[1;32mbreak\u001b[0m\u001b[1;33m\u001b[0m\u001b[0m\n\u001b[0;32m     42\u001b[0m     \u001b[1;32mif\u001b[0m \u001b[0mfailed\u001b[0m\u001b[1;33m:\u001b[0m\u001b[1;33m\u001b[0m\u001b[0m\n\u001b[1;32m---> 43\u001b[1;33m         \u001b[1;32mraise\u001b[0m \u001b[0mValueError\u001b[0m\u001b[1;33m(\u001b[0m\u001b[1;34m\"Couldn't find a suitable range.\"\u001b[0m\u001b[1;33m)\u001b[0m\u001b[1;33m\u001b[0m\u001b[0m\n\u001b[0m\u001b[0;32m     44\u001b[0m     \u001b[1;32mreturn\u001b[0m \u001b[1;33m(\u001b[0m\u001b[0ma\u001b[0m\u001b[1;33m,\u001b[0m \u001b[0mb\u001b[0m\u001b[1;33m)\u001b[0m\u001b[1;33m\u001b[0m\u001b[0m\n\u001b[0;32m     45\u001b[0m \u001b[1;33m\u001b[0m\u001b[0m\n",
      "\u001b[1;31mValueError\u001b[0m: Couldn't find a suitable range."
     ]
    }
   ],
   "source": [
    "reload(rf)\n",
    "temp = 273\n",
    "#esat_target = 611.2*np.exp((17.67*(temp - 273))/((temp - 273) + 243.5))\n",
    "esat_target = e_s0*np.exp(((2.5e6)/R_v)*((1/T_0)-(1/temp)))\n",
    "print(esat_target)\n",
    "e_sat(esat_target, temp)"
   ]
  },
  {
   "cell_type": "code",
   "execution_count": null,
   "metadata": {
    "collapsed": true
   },
   "outputs": [],
   "source": []
  }
 ],
 "metadata": {
  "kernelspec": {
   "display_name": "Python 3",
   "language": "python",
   "name": "python3"
  },
  "language_info": {
   "codemirror_mode": {
    "name": "ipython",
    "version": 3
   },
   "file_extension": ".py",
   "mimetype": "text/x-python",
   "name": "python",
   "nbconvert_exporter": "python",
   "pygments_lexer": "ipython3",
   "version": "3.4.4"
  }
 },
 "nbformat": 4,
 "nbformat_minor": 0
}
