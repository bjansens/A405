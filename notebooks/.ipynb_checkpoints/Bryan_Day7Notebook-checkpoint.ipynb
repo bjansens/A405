{
 "cells": [
  {
   "cell_type": "markdown",
   "metadata": {},
   "source": [
    "#ATSC 405 Day 7 Assignment\n",
    "##Bryan Jansens\n",
    "\n",
    "---------"
   ]
  },
  {
   "cell_type": "markdown",
   "metadata": {},
   "source": [
    "##First goal: Numerically integrate $\\int_0^5x^2 \\ dx$ using np.arange, np.diff and np.sum.\n",
    "Think of adding up the area of a lot of thin boxes under the curve $f(x)=x^2$ between $x=0$ and $x=5$. To start, I create an array called data using numpy.arange, which contains equally-spaced values from 0 to 5 in steps of 0.01. These values are the $x$ values for me to use in the integration. The integral is then equal to the sum of the areas of all the thin boxes, which is equal to the \"width\" 0.01 of each box multiplied by its height. The height of each box is given by the value of $f(x)$ at that point, which is the value of $x$ at each step in data, squared. The exact result is known to be 125/3, or about 41.667, so let's see how close I can get."
   ]
  },
  {
   "cell_type": "code",
   "execution_count": 1,
   "metadata": {
    "collapsed": true
   },
   "outputs": [],
   "source": [
    "import numpy as np"
   ]
  },
  {
   "cell_type": "code",
   "execution_count": 33,
   "metadata": {
    "collapsed": false
   },
   "outputs": [
    {
     "name": "stdout",
     "output_type": "stream",
     "text": [
      "The numerical value is 42.925, which is 1.258 away from the exact value.\n",
      "The numerical value is 41.792, which is 0.125 away from the exact value.\n",
      "The numerical value is 41.905, which is 0.238 away from the exact value.\n"
     ]
    }
   ],
   "source": [
    "step_list = [0.1, 0.01, 0.001]\n",
    "for step in step_list:\n",
    "    data = np.arange(0,5.01,step)\n",
    "    value = np.sum((data**2)*step)\n",
    "    print('The numerical value is {:.3f}, which is {:.3f} away from the exact value.'.format(value, np.abs(value - 41.667)))"
   ]
  },
  {
   "cell_type": "markdown",
   "metadata": {},
   "source": [
    "## Second goal: Plot pressure vs. height for a sounding. Calculate the scale height for this sounding using Lohmann (3.7) and add a line that plots $p(z)=p_0e^{-z/H}$.\n",
    "First I need to bring in the code from newsounding.ipynb to get my sounding, and then I can plot pressure as a function of height. My location is Iqaluit."
   ]
  },
  {
   "cell_type": "code",
   "execution_count": 34,
   "metadata": {
    "collapsed": false
   },
   "outputs": [
    {
     "name": "stdout",
     "output_type": "stream",
     "text": [
      "Help on function make_frames in module soundings.wyominglib:\n",
      "\n",
      "make_frames(html_doc)\n",
      "    input: web page from wyoming upperair sounding site\n",
      "           http://weather.uwyo.edu/cgi-bin/sounding retrieved by\n",
      "           the requests module\n",
      "    output: attr_dict dictionary with ['header', 'site_id','longitude','latitude', 'elevation', 'units']\n",
      "            sound_dict soudning dictionary with sounding times as keys and sounding as dataframes\n",
      "\n",
      "None\n"
     ]
    }
   ],
   "source": [
    "from importlib import reload\n",
    "import soundings.wyominglib\n",
    "reload(soundings.wyominglib)\n",
    "from soundings.wyominglib import make_frames\n",
    "import pandas as pd\n",
    "from matplotlib import pyplot as plt\n",
    "import requests\n",
    "import datetime\n",
    "from datetime import timezone as tz\n",
    "import tzlocal   #pip install tzlocal\n",
    "import h5py\n",
    "from pprint import pformat\n",
    "print(help(make_frames))"
   ]
  },
  {
   "cell_type": "code",
   "execution_count": 35,
   "metadata": {
    "collapsed": true
   },
   "outputs": [],
   "source": [
    "#this template holds the text that will always be the same,\n",
    "# plus variables that will be substituted in based on dictionary values\n",
    "\n",
    "url_template=(\"http://weather.uwyo.edu/cgi-bin/sounding?\"\n",
    "              \"region={region:s}\"\n",
    "              \"&TYPE=TEXT%3ALIST\"\n",
    "              \"&YEAR={year:s}\"\n",
    "              \"&MONTH={month:s}\"\n",
    "              \"&FROM={start:s}\"\n",
    "              \"&TO={stop:s}\"\n",
    "              \"&STNM={station:s}\")"
   ]
  },
  {
   "cell_type": "code",
   "execution_count": 36,
   "metadata": {
    "collapsed": false
   },
   "outputs": [
    {
     "name": "stdout",
     "output_type": "stream",
     "text": [
      "here is the url we call to get the soundings: \n",
      " http://weather.uwyo.edu/cgi-bin/sounding?region=samer&TYPE=TEXT%3ALIST&YEAR=2013&MONTH=2&FROM=0100&TO=2800&STNM=71909\n"
     ]
    }
   ],
   "source": [
    "values=dict(region='samer',year='2013',month='2',start='0100',stop='2800',station='71909')\n",
    "#values=dict(region='nz',year='2013',month='2',start='0100',stop='2800',station='93417')\n",
    "#values=dict(region='naconf',year='2013',month='2',start='0100',stop='2800',station='71802')\n",
    "#values=dict(region='ant',year='2013',month='07',start='0100',stop='2800',station='89009')\n",
    "url=url_template.format_map(values)\n",
    "print('here is the url we call to get the soundings: \\n',url)"
   ]
  },
  {
   "cell_type": "code",
   "execution_count": 38,
   "metadata": {
    "collapsed": false
   },
   "outputs": [
    {
     "name": "stdout",
     "output_type": "stream",
     "text": [
      "read 607756 bytes\n"
     ]
    }
   ],
   "source": [
    "#\n",
    "# Make do_web False to reuse a page for debugging\n",
    "#\n",
    "do_web = True\n",
    "backup_file='backup.txt'\n",
    "if do_web:\n",
    "    #\n",
    "    # grab the web page that is loaded with this url\n",
    "    #\n",
    "    html_doc = requests.get(url).text\n",
    "    print('read {} bytes'.format(len(html_doc)))\n",
    "    with open(backup_file,'w') as f:\n",
    "        f.write(html_doc)\n",
    "    if len(html_doc) < 2000:\n",
    "        print('debug: short html_doc, something went wrong:',html_doc)\n",
    "        sys.exit(1)\n",
    "else:\n",
    "    with open(backup_file,'r') as f:\n",
    "        html_doc=f.read()"
   ]
  },
  {
   "cell_type": "code",
   "execution_count": 39,
   "metadata": {
    "collapsed": false
   },
   "outputs": [
    {
     "name": "stdout",
     "output_type": "stream",
     "text": [
      "header is:  71909 YFB Iqaluit Observations at 00Z 01 Feb 2013\n"
     ]
    }
   ],
   "source": [
    "attr_dict,sounding_dict = make_frames(html_doc)"
   ]
  },
  {
   "cell_type": "code",
   "execution_count": 40,
   "metadata": {
    "collapsed": false
   },
   "outputs": [
    {
     "name": "stdout",
     "output_type": "stream",
     "text": [
      "2016-01-20 06:31:22 UTC\n"
     ]
    }
   ],
   "source": [
    "mytz=tzlocal.get_localzone()\n",
    "now=datetime.datetime.now(tz=mytz)\n",
    "now=now.astimezone(tz.utc)\n",
    "timestamp=now.strftime('%Y-%m-%d %H:%M:%S UTC')\n",
    "print(timestamp)"
   ]
  },
  {
   "cell_type": "code",
   "execution_count": 41,
   "metadata": {
    "collapsed": true
   },
   "outputs": [],
   "source": [
    "attr_dict['timestamp']=timestamp\n",
    "attr_dict['history']=\"written by test_requests.py\"\n",
    "attr_dict['query']= url\n",
    "#\n",
    "# write the keys out in this order\n",
    "#\n",
    "key_list=['header', 'site_id','longitude','latitude', 'elevation', 'units','history','query','timestamp']"
   ]
  },
  {
   "cell_type": "code",
   "execution_count": 42,
   "metadata": {
    "collapsed": true
   },
   "outputs": [],
   "source": [
    "name = 'out.h5'    \n",
    "with pd.HDFStore(name,'w') as store:\n",
    "    for key,value in sounding_dict.items():\n",
    "        #need to insert Y in front of the year because\n",
    "        #h5py groups need to be legal python variables\n",
    "        #(remove Y to see error message)\n",
    "        thetime=key.strftime(\"Y%Y_%b_%d_%HZ\")  \n",
    "        store.put(thetime,value,format='table')"
   ]
  },
  {
   "cell_type": "code",
   "execution_count": 43,
   "metadata": {
    "collapsed": false
   },
   "outputs": [
    {
     "name": "stdout",
     "output_type": "stream",
     "text": [
      "writing key, value:  header 71909 YFB Iqaluit Observations at 00Z 01 Feb 2013\n",
      "writing key, value:  site_id 71909\n",
      "writing key, value:  longitude -68.55\n",
      "writing key, value:  latitude 63.75\n",
      "writing key, value:  elevation 3.0\n",
      "writing key, value:  units hPa;m;C;C;%;g/kg;deg;knot;K;K;K\n",
      "writing key, value:  history written by test_requests.py\n",
      "writing key, value:  query http://weather.uwyo.edu/cgi-bin/sounding?region=samer&TYPE=TEXT%3ALIST&YEAR=2013&MONTH=2&FROM=0100&TO=2800&STNM=71909\n",
      "writing key, value:  timestamp 2016-01-20 06:31:22 UTC\n"
     ]
    }
   ],
   "source": [
    "with h5py.File(name,'a') as f:\n",
    "        for key in key_list:\n",
    "            print('writing key, value: ',key,attr_dict[key])\n",
    "            f.attrs[key]=attr_dict[key]\n",
    "        f.close()"
   ]
  },
  {
   "cell_type": "code",
   "execution_count": 44,
   "metadata": {
    "collapsed": false
   },
   "outputs": [
    {
     "name": "stdout",
     "output_type": "stream",
     "text": [
      "empty key:  TITLE\n",
      "empty key:  CLASS\n",
      "empty key:  VERSION\n",
      "empty key:  PYTABLES_FORMAT_VERSION\n",
      "\n",
      "read in these attributes: \n",
      "\n",
      " {'elevation': 3.0,\n",
      " 'header': '71909 YFB Iqaluit Observations at 00Z 01 Feb 2013',\n",
      " 'history': 'written by test_requests.py',\n",
      " 'latitude': 63.75,\n",
      " 'longitude': -68.549999999999997,\n",
      " 'query': 'http://weather.uwyo.edu/cgi-bin/sounding?region=samer&TYPE=TEXT%3ALIST&YEAR=2013&MONTH=2&FROM=0100&TO=2800&STNM=71909',\n",
      " 'site_id': '71909',\n",
      " 'timestamp': '2016-01-20 06:31:22 UTC',\n",
      " 'units': 'hPa;m;C;C;%;g/kg;deg;knot;K;K;K'}\n"
     ]
    }
   ],
   "source": [
    "attributes={}\n",
    "with h5py.File(name,'r') as f:\n",
    "    keys=f.attrs.keys()\n",
    "    for key in keys:\n",
    "        try:\n",
    "            attributes[key]=f.attrs[key]\n",
    "        except IOError:\n",
    "            print('empty key: ',key)\n",
    "print('\\nread in these attributes: \\n\\n',pformat(attributes))"
   ]
  },
  {
   "cell_type": "code",
   "execution_count": 45,
   "metadata": {
    "collapsed": false
   },
   "outputs": [
    {
     "name": "stdout",
     "output_type": "stream",
     "text": [
      "\n",
      "++++++++++++++++++++++++++++++\n",
      "sounding times:['/Y2013_Feb_01_00Z', '/Y2013_Feb_01_12Z', '/Y2013_Feb_03_00Z', '/Y2013_Feb_03_12Z', '/Y2013_Feb_04_00Z', '/Y2013_Feb_04_12Z', '/Y2013_Feb_05_00Z', '/Y2013_Feb_05_12Z', '/Y2013_Feb_06_12Z', '/Y2013_Feb_07_00Z', '/Y2013_Feb_07_12Z', '/Y2013_Feb_08_00Z', '/Y2013_Feb_08_12Z', '/Y2013_Feb_09_00Z', '/Y2013_Feb_09_12Z', '/Y2013_Feb_10_00Z', '/Y2013_Feb_10_12Z', '/Y2013_Feb_11_00Z', '/Y2013_Feb_11_12Z', '/Y2013_Feb_12_00Z', '/Y2013_Feb_12_12Z', '/Y2013_Feb_13_00Z', '/Y2013_Feb_13_12Z', '/Y2013_Feb_14_00Z', '/Y2013_Feb_14_12Z', '/Y2013_Feb_15_00Z', '/Y2013_Feb_15_12Z', '/Y2013_Feb_16_00Z', '/Y2013_Feb_16_12Z', '/Y2013_Feb_17_00Z', '/Y2013_Feb_17_12Z', '/Y2013_Feb_18_00Z', '/Y2013_Feb_18_12Z', '/Y2013_Feb_19_00Z', '/Y2013_Feb_19_12Z', '/Y2013_Feb_20_00Z', '/Y2013_Feb_20_12Z', '/Y2013_Feb_21_00Z', '/Y2013_Feb_21_12Z', '/Y2013_Feb_22_00Z', '/Y2013_Feb_22_12Z', '/Y2013_Feb_23_00Z', '/Y2013_Feb_23_12Z', '/Y2013_Feb_24_00Z', '/Y2013_Feb_24_12Z', '/Y2013_Feb_25_00Z', '/Y2013_Feb_25_12Z', '/Y2013_Feb_26_00Z', '/Y2013_Feb_26_12Z', '/Y2013_Feb_27_00Z', '/Y2013_Feb_27_12Z', '/Y2013_Feb_28_00Z']\n",
      "++++++++++++++++++++++++++++++\n",
      " \n",
      "\n",
      "++++++++++++++++++++++++++++++\n",
      "columns: Index(['pres', 'hght', 'temp', 'dwpt', 'relh', 'mixr', 'drct', 'sknt', 'thta',\n",
      "       'thte', 'thtv'],\n",
      "      dtype='object')\n",
      "++++++++++++++++++++++++++++++\n",
      " \n",
      "title: : 71909 YFB Iqaluit at 2013_Feb_01_00Z\n",
      "variables with units: \n",
      " {'drct': 'deg',\n",
      " 'dwpt': 'C',\n",
      " 'hght': 'm',\n",
      " 'mixr': 'g/kg',\n",
      " 'pres': 'hPa',\n",
      " 'relh': '%',\n",
      " 'sknt': 'knot',\n",
      " 'temp': 'C',\n",
      " 'thta': 'K',\n",
      " 'thte': 'K',\n",
      " 'thtv': 'K'}\n"
     ]
    }
   ],
   "source": [
    "name = 'out.h5'    \n",
    "separator= '\\n' + '+'*30 + '\\n'\n",
    "sounding_dict={}\n",
    "with pd.HDFStore(name,'r') as store:\n",
    "    times=store.keys()\n",
    "    for the_time in times:\n",
    "        sounding_dict[the_time]=store[the_time]\n",
    "sounding=sounding_dict[times[0]]\n",
    "print('{0:}sounding times:{1:}{0:} '.format(separator,times))\n",
    "print('{0:}columns: {1:}{0:} '.format(separator,pformat(sounding.columns)))\n",
    "title_string=attributes['header']\n",
    "index=title_string.find(' Observations at')\n",
    "location=title_string[:index]\n",
    "title='{} at {}'.format(location,times[0][2:])\n",
    "print('title: :',title)\n",
    "units=attributes['units'].split(';')\n",
    "units_dict={}\n",
    "for count,var in enumerate(sounding.columns):\n",
    "    units_dict[var]=units[count]\n",
    "print('variables with units: \\n',pformat(units_dict))"
   ]
  },
  {
   "cell_type": "code",
   "execution_count": 50,
   "metadata": {
    "collapsed": false
   },
   "outputs": [
    {
     "data": {
      "image/png": "[encoded data removed]",
      "text/plain": [
       "<matplotlib.figure.Figure at 0x8e52208>"
      ]
     },
     "metadata": {},
     "output_type": "display_data"
    }
   ],
   "source": [
    "%matplotlib inline\n",
    "key=times[3]  #pick the third sounding\n",
    "the_sounding=sounding_dict[key]\n",
    "m2km=1.e-3  #convert meters to km\n",
    "plt.style.use('ggplot')\n",
    "fig,ax=plt.subplots(1,1,figsize=(8,10))\n",
    "ax.plot(the_sounding['pres'],the_sounding['hght']*m2km, label = 'Pressure')\n",
    "ax.legend()\n",
    "out=ax.set(xlabel=\"Pressure (hPa)\",ylabel=\"Height (km)\",\n",
    "      title=title)"
   ]
  },
  {
   "cell_type": "markdown",
   "metadata": {},
   "source": [
    "Next I want to plot $p(z)=p_0e^{-z/H}$, with $p_0$ the pressure at the surface. This requires me to calculate the scale height $H$, from equation (3.7) in Lohmann:$\\\\[2mm]$\n",
    "\n",
    "$$\\frac{dp}{p}=-\\frac{g}{R_d\\overline{T_v}} \\ dz.\\\\[2mm]$$\n",
    "\n",
    "Setting the scale height as $H=R_d\\overline{T_v}/g$ I can re-write this as$\\\\[2mm]$\n",
    "\n",
    "$$\\frac{dp}{p}=-\\frac{1}{H} \\ dz.\\\\[2mm]$$\n",
    "\n",
    "In the above, $\\overline{T_v}$ is the average temperature over each height interval $dz$. I need to use an average $\\overline{H}$, but I'm not sure how (3.7) in Lohmann gives me that? I'll just try calculating the pressure integral, and integrate from the surface pressure to the top of the atmosphere, where pressure should be zero."
   ]
  },
  {
   "cell_type": "code",
   "execution_count": 67,
   "metadata": {
    "collapsed": false
   },
   "outputs": [
    {
     "name": "stdout",
     "output_type": "stream",
     "text": [
      "988.0\n",
      "34220.0\n"
     ]
    }
   ],
   "source": [
    "p0 = the_sounding['pres'][0]\n",
    "print(p0)\n",
    "zmax = the_sounding['hght'][133]\n",
    "print(zmax)"
   ]
  },
  {
   "cell_type": "code",
   "execution_count": 100,
   "metadata": {
    "collapsed": false
   },
   "outputs": [
    {
     "name": "stdout",
     "output_type": "stream",
     "text": [
      "The numerical value of H is 2.833 km.\n"
     ]
    }
   ],
   "source": [
    "step = 0.01\n",
    "press_data = np.arange(p0,0.,-step)\n",
    "value = 1/(np.sum((1/press_data)*step)/(zmax))\n",
    "print('The numerical value of H is {:.3f} km.'.format(value*m2km))"
   ]
  },
  {
   "cell_type": "code",
   "execution_count": 96,
   "metadata": {
    "collapsed": true
   },
   "outputs": [],
   "source": [
    "pressures = p0*np.exp(-the_sounding['hght']/value)"
   ]
  },
  {
   "cell_type": "code",
   "execution_count": 98,
   "metadata": {
    "collapsed": false
   },
   "outputs": [
    {
     "data": {
      "image/png": "[encoded data removed]",
      "text/plain": [
       "<matplotlib.figure.Figure at 0x97c3630>"
      ]
     },
     "metadata": {},
     "output_type": "display_data"
    }
   ],
   "source": [
    "%matplotlib inline\n",
    "key=times[3]  #pick the third sounding\n",
    "the_sounding=sounding_dict[key]\n",
    "m2km=1.e-3  #convert meters to km\n",
    "plt.style.use('ggplot')\n",
    "fig,ax=plt.subplots(1,1,figsize=(8,10))\n",
    "ax.plot(the_sounding['pres'],the_sounding['hght']*m2km, label = 'Pressure from data')\n",
    "ax.plot(pressures,the_sounding['hght']*m2km, label = 'Pressure from equation')\n",
    "out = ax.legend(loc='best', ncol=1, fancybox=True, shadow=True)\n",
    "out=ax.set(xlabel=\"Pressure (hPa)\",ylabel=\"Height (km)\", title=title)"
   ]
  },
  {
   "cell_type": "markdown",
   "metadata": {},
   "source": [
    "The scale height seems too small."
   ]
  },
  {
   "cell_type": "code",
   "execution_count": null,
   "metadata": {
    "collapsed": true
   },
   "outputs": [],
   "source": []
  }
 ],
 "metadata": {
  "kernelspec": {
   "display_name": "Python 3",
   "language": "python",
   "name": "python3"
  },
  "language_info": {
   "codemirror_mode": {
    "name": "ipython",
    "version": 3
   },
   "file_extension": ".py",
   "mimetype": "text/x-python",
   "name": "python",
   "nbconvert_exporter": "python",
   "pygments_lexer": "ipython3",
   "version": "3.4.4"
  }
 },
 "nbformat": 4,
 "nbformat_minor": 0
}
