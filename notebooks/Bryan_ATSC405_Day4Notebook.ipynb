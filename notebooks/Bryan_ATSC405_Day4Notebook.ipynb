{
 "cells": [
  {
   "cell_type": "markdown",
   "metadata": {},
   "source": [
    "# Day 4 Notebook\n",
    "## Bryan Jansens\n",
    "\n",
    "------"
   ]
  },
  {
   "cell_type": "markdown",
   "metadata": {},
   "source": [
    "##Goal: Write a function that uses brentq to find the temperature for $\\theta=280$ K and pressures of [1.e5, 7.e4, 4.e4] Pa. "
   ]
  },
  {
   "cell_type": "code",
   "execution_count": 4,
   "metadata": {
    "collapsed": true
   },
   "outputs": [],
   "source": [
    "from scipy import optimize\n",
    "from matplotlib import pyplot as plt\n",
    "import numpy as np"
   ]
  },
  {
   "cell_type": "code",
   "execution_count": 175,
   "metadata": {
    "collapsed": false
   },
   "outputs": [],
   "source": [
    "def temp_from_theta(temp, theta, press):\n",
    "    \"\"\"Input:  Your guess for the absolute temperature: temp (K)\n",
    "               The potential temperature: theta (K)\n",
    "               The air pressure: press (kPa)\n",
    "       Output: The absolute temperature: temp (K)\n",
    "    \"\"\"\n",
    "    cpd = 1004.  #J/kg/K\n",
    "    Rd = 287.    # J/kg/K\n",
    "    p0 = 1.e5    #Pa\n",
    "    return theta/((p0/press)**(Rd/cpd)) - temp"
   ]
  },
  {
   "cell_type": "code",
   "execution_count": 181,
   "metadata": {
    "collapsed": false
   },
   "outputs": [
    {
     "name": "stdout",
     "output_type": "stream",
     "text": [
      "The temperature of dry air at 100 kPa and theta of 280 K is 280.00 K.\n",
      "The temperature of dry air at 70 kPa and theta of 280 K is 252.86 K.\n",
      "The temperature of dry air at 40 kPa and theta of 280 K is 215.48 K.\n"
     ]
    }
   ],
   "source": [
    "#Search for roots for the given value of theta and all three given values of pressure. Put the results into an array for \n",
    "#plotting.\n",
    "\n",
    "root1 = optimize.zeros.brentq(temp_from_theta, 278, 282, args = (280, 1.e5))\n",
    "root2 = optimize.zeros.brentq(temp_from_theta, 215, 402, args = (280, 7.e4))\n",
    "root3 = optimize.zeros.brentq(temp_from_theta, 215, 216, args = (280, 4.e4))\n",
    "xvals = np.array([root1, root2, root3])\n",
    "yvals = np.array([1.e5, 7.e4, 4.e4])\n",
    "\n",
    "press_list = [1.e5, 7.e4, 4.e4]\n",
    "\n",
    "for i in range(len(xvals)):\n",
    "    print('The temperature of dry air at {} kPa and theta of {} K is {:.2f} K.'.format(int(press_list[i]/1000), 280, \n",
    "                                                                                       xvals[i]))"
   ]
  },
  {
   "cell_type": "code",
   "execution_count": null,
   "metadata": {
    "collapsed": true
   },
   "outputs": [],
   "source": []
  }
 ],
 "metadata": {
  "kernelspec": {
   "display_name": "Python 3",
   "language": "python",
   "name": "python3"
  },
  "language_info": {
   "codemirror_mode": {
    "name": "ipython",
    "version": 3
   },
   "file_extension": ".py",
   "mimetype": "text/x-python",
   "name": "python",
   "nbconvert_exporter": "python",
   "pygments_lexer": "ipython3",
   "version": "3.4.3"
  }
 },
 "nbformat": 4,
 "nbformat_minor": 0
}
