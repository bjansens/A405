{
 "cells": [
  {
   "cell_type": "markdown",
   "metadata": {},
   "source": [
    "#ATSC 405 Day 8 Assignment\n",
    "##Bryan Jansens\n",
    "\n",
    "-----"
   ]
  },
  {
   "cell_type": "markdown",
   "metadata": {},
   "source": [
    "##Objective: Reproduce Fig. 1.9 from Thompkins for pressures of 1000, 800, and 600 hPa and temperatures from 250 to 300 K."
   ]
  },
  {
   "cell_type": "markdown",
   "metadata": {},
   "source": [
    "Fig. 1.9 has two axes: temperature $T$ on the horizontal axis and $ln(\\theta)$ on the vertical axis. I can set up the horizontal axis easily enough, but to get the vertical axis I will need to bring in a function that calculates $\\theta$ as a function of pressure and temperature. We had one in a previous notebook that I'll use here."
   ]
  },
  {
   "cell_type": "code",
   "execution_count": 33,
   "metadata": {
    "collapsed": true
   },
   "outputs": [],
   "source": [
    "import numpy as np\n",
    "from matplotlib import pyplot as plt"
   ]
  },
  {
   "cell_type": "code",
   "execution_count": 1,
   "metadata": {
    "collapsed": true
   },
   "outputs": [],
   "source": [
    "def theta_from_temp(temp,press):\n",
    "    \"\"\"\n",
    "       Input: temp (K)\n",
    "               press (kPa)\n",
    "       Output: theta (K)\n",
    "       Thompkins eq. 1.38\n",
    "    \"\"\"\n",
    "    cpd = 1004. #J/kg/K\n",
    "    Rd = 287.   # J/kg/K\n",
    "    p0 = 100    #kPa\n",
    "    theta = temp*(p0/press)**(Rd/cpd)\n",
    "    return theta"
   ]
  },
  {
   "cell_type": "markdown",
   "metadata": {},
   "source": [
    "Now set up the temperature axis between 250 and 300 K."
   ]
  },
  {
   "cell_type": "code",
   "execution_count": 12,
   "metadata": {
    "collapsed": false
   },
   "outputs": [
    {
     "name": "stdout",
     "output_type": "stream",
     "text": [
      "501\n"
     ]
    }
   ],
   "source": [
    "temps = np.arange(250.0,300.01,0.1)\n",
    "print(len(temps))"
   ]
  },
  {
   "cell_type": "markdown",
   "metadata": {},
   "source": [
    "Set up an array of pressures of the same size as the temperature array. Use units of kPa to match those from the theta function."
   ]
  },
  {
   "cell_type": "code",
   "execution_count": 80,
   "metadata": {
    "collapsed": false
   },
   "outputs": [
    {
     "name": "stdout",
     "output_type": "stream",
     "text": [
      "501\n"
     ]
    }
   ],
   "source": [
    "pressures = np.arange(100, 49.9, -0.1)\n",
    "print(len(pressures))"
   ]
  },
  {
   "cell_type": "markdown",
   "metadata": {},
   "source": [
    "Now get values of $\\theta$ corresponding to those pressures and temperatures. Take the logarithm of those values to get my vertical axis."
   ]
  },
  {
   "cell_type": "code",
   "execution_count": 32,
   "metadata": {
    "collapsed": false
   },
   "outputs": [
    {
     "name": "stdout",
     "output_type": "stream",
     "text": [
      "501\n"
     ]
    }
   ],
   "source": [
    "thetavals = np.log(theta_from_temp(temps, pressures))\n",
    "print(len(thetavals))"
   ]
  },
  {
   "cell_type": "markdown",
   "metadata": {},
   "source": [
    "Now I want to get curves of constant pressure (isobars) for each of the three given pressures."
   ]
  },
  {
   "cell_type": "code",
   "execution_count": 93,
   "metadata": {
    "collapsed": false
   },
   "outputs": [],
   "source": [
    "pressline1 = theta_from_temp(temps, 100)\n",
    "pressline2 = theta_from_temp(temps, 80)\n",
    "pressline3 = theta_from_temp(temps, 60)"
   ]
  },
  {
   "cell_type": "code",
   "execution_count": 100,
   "metadata": {
    "collapsed": false
   },
   "outputs": [
    {
     "data": {
      "image/png": "[encoded data removed]",
      "text/plain": [
       "<matplotlib.figure.Figure at 0x7f6e390>"
      ]
     },
     "metadata": {},
     "output_type": "display_data"
    }
   ],
   "source": [
    "%matplotlib inline\n",
    "plt.style.use('ggplot')\n",
    "\n",
    "fig,ax = plt.subplots(1,1,figsize = (6,6))\n",
    "out = ax.plot(pressline1, thetavals, label = '100 kPa')\n",
    "out = ax.plot(pressline2, thetavals, label = '80 kPa')\n",
    "out = ax.plot(pressline3, thetavals, label = '60 kPa')\n",
    "#out = ax.plot(temps, thetavals)\n",
    "out = ax.legend(loc = 'best', ncol = 1, fancybox = True, shadow = True)\n",
    "out = ax.set(xlabel = 'Temperature (K)', ylabel = '$\\ln(\\\\theta)$', title = 'Tephigram')\n",
    "out = ax.set(xlim=[250, 300])"
   ]
  },
  {
   "cell_type": "code",
   "execution_count": null,
   "metadata": {
    "collapsed": true
   },
   "outputs": [],
   "source": []
  }
 ],
 "metadata": {
  "kernelspec": {
   "display_name": "Python 3",
   "language": "python",
   "name": "python3"
  },
  "language_info": {
   "codemirror_mode": {
    "name": "ipython",
    "version": 3
   },
   "file_extension": ".py",
   "mimetype": "text/x-python",
   "name": "python",
   "nbconvert_exporter": "python",
   "pygments_lexer": "ipython3",
   "version": "3.4.4"
  }
 },
 "nbformat": 4,
 "nbformat_minor": 0
}
